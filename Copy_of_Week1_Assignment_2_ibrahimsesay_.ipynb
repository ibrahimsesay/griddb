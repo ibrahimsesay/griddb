{
  "nbformat": 4,
  "nbformat_minor": 0,
  "metadata": {
    "colab": {
      "name": "Copy of Week1 Assignment 2 @ibrahimsesay ..ipynb",
      "provenance": [],
      "collapsed_sections": [],
      "include_colab_link": true
    },
    "kernelspec": {
      "display_name": "Python 3",
      "language": "python",
      "name": "python3"
    },
    "language_info": {
      "codemirror_mode": {
        "name": "ipython",
        "version": 3
      },
      "file_extension": ".py",
      "mimetype": "text/x-python",
      "name": "python",
      "nbconvert_exporter": "python",
      "pygments_lexer": "ipython3",
      "version": "3.8.5"
    }
  },
  "cells": [
    {
      "cell_type": "markdown",
      "metadata": {
        "id": "view-in-github",
        "colab_type": "text"
      },
      "source": [
        "<a href=\"https://colab.research.google.com/github/ibrahimsesay/griddb/blob/master/Copy_of_Week1_Assignment_2_ibrahimsesay_.ipynb\" target=\"_parent\"><img src=\"https://colab.research.google.com/assets/colab-badge.svg\" alt=\"Open In Colab\"/></a>"
      ]
    },
    {
      "cell_type": "markdown",
      "metadata": {
        "id": "u_evrVowyigl"
      },
      "source": [
        "# [Problem.1] The minimum number of folds over Mt. Fuji\r\n",
        "\r\n",
        "1.   List item\r\n",
        "2.   List item\r\n",
        "\r\n"
      ]
    },
    {
      "cell_type": "code",
      "metadata": {
        "colab": {
          "base_uri": "https://localhost:8080/"
        },
        "id": "UbMzH4vKyMVv",
        "outputId": "405ebab7-e44d-40dc-c012-9b1774ddcaad"
      },
      "source": [
        "Thick0=0.00008\n",
        "distance=3776\n",
        "\n",
        "for n in range(1,44):\n",
        "    thick=Thick0*2**n\n",
        "    if(thick>=distance):\n",
        "        break\n",
        "print(\"Number of times of folds if exceeds Mt. Fuji is = {}\".format(n))"
      ],
      "execution_count": null,
      "outputs": [
        {
          "output_type": "stream",
          "text": [
            "Number of times of folds if exceeds Mt. Fuji is = 26\n"
          ],
          "name": "stdout"
        }
      ]
    },
    {
      "cell_type": "markdown",
      "metadata": {
        "id": "mW7UONTz5YWp"
      },
      "source": [
        "# [Problem. 2] The function corresponding to an arbitrary thickness"
      ]
    },
    {
      "cell_type": "code",
      "metadata": {
        "colab": {
          "base_uri": "https://localhost:8080/",
          "height": 35
        },
        "id": "dROU868jyqNN",
        "outputId": "a5fc4cb8-967a-4728-ef22-80c911da97f2"
      },
      "source": [
        "import math\n",
        "\n",
        "def arbitrary_thickness(distance):\n",
        "    thickness = 0.00008\n",
        "    \n",
        "    num_of_bends = math.log2(distance/thickness)\n",
        "    \n",
        "    return f'The number of times a paper {distance}m thick bends is : {round(num_of_bends)}'\n",
        "    \n",
        "arbitrary_thickness(20000)"
      ],
      "execution_count": null,
      "outputs": [
        {
          "output_type": "execute_result",
          "data": {
            "application/vnd.google.colaboratory.intrinsic+json": {
              "type": "string"
            },
            "text/plain": [
              "'The number of times a paper 20000m thick bends is : 28'"
            ]
          },
          "metadata": {
            "tags": []
          },
          "execution_count": 55
        }
      ]
    },
    {
      "cell_type": "code",
      "metadata": {
        "colab": {
          "base_uri": "https://localhost:8080/",
          "height": 35
        },
        "id": "SWNe495uvaL6",
        "outputId": "3b96baf9-8c6e-4fd3-cac4-08d3a39d8939"
      },
      "source": [
        "#Number of times to fold a paper to reach the nearest neighboring star, Proxima centauri\n",
        "thickness(40208000000000)"
      ],
      "execution_count": null,
      "outputs": [
        {
          "output_type": "execute_result",
          "data": {
            "application/vnd.google.colaboratory.intrinsic+json": {
              "type": "string"
            },
            "text/plain": [
              "'The number of times a paper 40208000000000m thick bends is : 59'"
            ]
          },
          "metadata": {
            "tags": []
          },
          "execution_count": 52
        }
      ]
    },
    {
      "cell_type": "markdown",
      "metadata": {
        "id": "CoPvVQam6JQe"
      },
      "source": [
        "# [Problem. 3] Required paper length"
      ]
    },
    {
      "cell_type": "code",
      "metadata": {
        "colab": {
          "base_uri": "https://localhost:8080/",
          "height": 35
        },
        "id": "7jmSSMqwlhqB",
        "outputId": "64323c21-b69a-4393-a7c4-129f24e3e8ee"
      },
      "source": [
        "def paper_length(distance):\n",
        "    thickness = 0.00008\n",
        "    \n",
        "    num_of_bends = math.log2(distance/thickness)\n",
        "    \n",
        "    length = (thickness*math.pi/6)*(2**num_of_bends + 4)*(2**num_of_bends - 1)\n",
        "    \n",
        "    return f'The length of the paper necessary to reach a thickness of {distance}m is: {round(length)}m'\n",
        "paper_length(100)"
      ],
      "execution_count": null,
      "outputs": [
        {
          "output_type": "execute_result",
          "data": {
            "application/vnd.google.colaboratory.intrinsic+json": {
              "type": "string"
            },
            "text/plain": [
              "'The length of the paper necessary to reach a thickness of 100m is: 65450004m'"
            ]
          },
          "metadata": {
            "tags": []
          },
          "execution_count": 57
        }
      ]
    },
    {
      "cell_type": "code",
      "metadata": {
        "colab": {
          "base_uri": "https://localhost:8080/",
          "height": 35
        },
        "id": "M6Wjh2jDxn2u",
        "outputId": "bcfcc653-c192-4cd9-ae24-80dbf51137cc"
      },
      "source": [
        "#length of paper needed to reach the Moon\n",
        "paper_length(384400)"
      ],
      "execution_count": null,
      "outputs": [
        {
          "output_type": "execute_result",
          "data": {
            "application/vnd.google.colaboratory.intrinsic+json": {
              "type": "string"
            },
            "text/plain": [
              "'The length of the paper necessary to reach a thickness of 384400m is: 967108930282445m'"
            ]
          },
          "metadata": {
            "tags": []
          },
          "execution_count": 58
        }
      ]
    },
    {
      "cell_type": "code",
      "metadata": {
        "colab": {
          "base_uri": "https://localhost:8080/",
          "height": 35
        },
        "id": "e4qUA4i4xtLN",
        "outputId": "4e777b57-31fb-4026-b940-3f770ad5dba7"
      },
      "source": [
        "#length of paper needed to reach Mt. Fuji from Sierra Leone\n",
        "paper_length(14235000)"
      ],
      "execution_count": null,
      "outputs": [
        {
          "output_type": "execute_result",
          "data": {
            "application/vnd.google.colaboratory.intrinsic+json": {
              "type": "string"
            },
            "text/plain": [
              "'The length of the paper necessary to reach a thickness of 14235000m is: 1326244446310933760m'"
            ]
          },
          "metadata": {
            "tags": []
          },
          "execution_count": 59
        }
      ]
    },
    {
      "cell_type": "code",
      "metadata": {
        "colab": {
          "base_uri": "https://localhost:8080/",
          "height": 35
        },
        "id": "MAljoTGwxxvh",
        "outputId": "d162fe42-f044-4f09-da1e-bd7290a7a389"
      },
      "source": [
        "#length of paper needed to reach Alpha Centauri, closest star to the sun\n",
        "paper_length(41320000000000000000)"
      ],
      "execution_count": null,
      "outputs": [
        {
          "output_type": "execute_result",
          "data": {
            "application/vnd.google.colaboratory.intrinsic+json": {
              "type": "string"
            },
            "text/plain": [
              "'The length of the paper necessary to reach a thickness of 41320000000000000000m is: 11174529877088318617763684719386290288590848m'"
            ]
          },
          "metadata": {
            "tags": []
          },
          "execution_count": 60
        }
      ]
    }
  ]
}