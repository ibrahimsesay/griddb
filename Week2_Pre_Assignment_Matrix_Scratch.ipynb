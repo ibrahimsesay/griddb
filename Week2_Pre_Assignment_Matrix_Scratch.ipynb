{
  "nbformat": 4,
  "nbformat_minor": 0,
  "metadata": {
    "kernelspec": {
      "display_name": "Python 3",
      "language": "python",
      "name": "python3"
    },
    "language_info": {
      "codemirror_mode": {
        "name": "ipython",
        "version": 3
      },
      "file_extension": ".py",
      "mimetype": "text/x-python",
      "name": "python",
      "nbconvert_exporter": "python",
      "pygments_lexer": "ipython3",
      "version": "3.8.5"
    },
    "colab": {
      "name": "Week2_Pre_Assignment Matrix Scratch.ipynb",
      "provenance": [],
      "collapsed_sections": [],
      "include_colab_link": true
    }
  },
  "cells": [
    {
      "cell_type": "markdown",
      "metadata": {
        "id": "view-in-github",
        "colab_type": "text"
      },
      "source": [
        "<a href=\"https://colab.research.google.com/github/ibrahimsesay/griddb/blob/master/Week2_Pre_Assignment_Matrix_Scratch.ipynb\" target=\"_parent\"><img src=\"https://colab.research.google.com/assets/colab-badge.svg\" alt=\"Open In Colab\"/></a>"
      ]
    },
    {
      "cell_type": "markdown",
      "metadata": {
        "id": "Z1zo4FC8Tp6a"
      },
      "source": [
        "# Problem 1. Matrix product is calculated manually"
      ]
    },
    {
      "cell_type": "markdown",
      "metadata": {
        "id": "a7aPVPRFTp7K"
      },
      "source": [
        "**QUESTION:**\n",
        "$$\n",
        "A=\\begin{bmatrix} -1 & 2 & 3 \\\\ Four & -Five & 6 \\\\ 7 & 8 & -9 \\end{bmatrix},\n",
        "B=\\begin{bmatrix} 0 & 2 & 1 \\\\ 0 & 2 & -8 \\\\ 2 & 9 & -1 \\end{bmatrix}\n",
        "$$\n",
        "\n",
        "**SOLUTION**\n",
        "\n",
        "**STEP 1:**\n",
        "$$\n",
        "\\begin{bmatrix}\n",
        "(-1*0)+(2*0)+(3*2)&(-1*2)+(2*2)+(3*9)&(-1*1)+(2*-8)+(3*-1)\\\\\n",
        "(4*0)+(-5*0)+(6*2)&(4*2)+(-5*2)+(6*9)&(4*1)+(-5*-8)+(6*-1)\\\\\n",
        "(7*0)+(8*0)+(-9*2)&(7*2)+(8*2)+(-9*9)&(7*1)+(8*-8)+(-9*-1)\\\\\n",
        "\\end{bmatrix},\n",
        "$$\n",
        "\n",
        "\n",
        "**STEP 2:**\n",
        "$$\n",
        "\\begin{bmatrix}\n",
        "(O+0+6)&(-2+4+27)&(-1-16-3)\\\\\n",
        "(O+0+12)&(8-10+54)&(4+40-6)\\\\\n",
        "(O+0-18)&(14+16-81)&(7-64+9)\\\\\n",
        "\\end{bmatrix},\n",
        "$$\n",
        "\n",
        "**FINAL ANSWER**\n",
        "$$\n",
        "\\begin{pmatrix} \n",
        "6&29&-20\\\\\n",
        "12&52&38\\\\\n",
        "-18&-51&-46\n",
        "\\end{pmatrix}\n",
        "$$\n"
      ]
    },
    {
      "cell_type": "markdown",
      "metadata": {
        "id": "X9pKvIdETp7M"
      },
      "source": [
        "# Problem 2.The Calculating by Numpy function are as follow."
      ]
    },
    {
      "cell_type": "code",
      "metadata": {
        "id": "mNtk5b44Tp7N",
        "outputId": "45a58358-9b46-4be2-eae7-2592ae62b8c3"
      },
      "source": [
        "import   numpy   as  np\n",
        "a_ndarray = np.array([[-1, 2, 3], [4, -5, 6], [7, 8, -9]])\n",
        "b_ndarray = np.array([[0, 2, 1], [0, 2, -8], [2, 9, -1]])\n",
        "ab_ndarray = np.matmul(a_ndarray,b_ndarray)\n",
        "print(ab_ndarray)"
      ],
      "execution_count": null,
      "outputs": [
        {
          "output_type": "stream",
          "text": [
            "[[  6  29 -20]\n",
            " [ 12  52  38]\n",
            " [-18 -51 -48]]\n"
          ],
          "name": "stdout"
        }
      ]
    },
    {
      "cell_type": "markdown",
      "metadata": {
        "id": "1DntKlhATp7Q"
      },
      "source": [
        "# Problem 3.The Implementation of calculation of a certain element."
      ]
    },
    {
      "cell_type": "code",
      "metadata": {
        "id": "thb-0S9hTp7R",
        "outputId": "76c7bf8d-6adc-4aa1-8183-ecc78996a9fb"
      },
      "source": [
        "ab = (a_ndarray[0][0]*b_ndarray[1][0])\n",
        "ab"
      ],
      "execution_count": null,
      "outputs": [
        {
          "output_type": "execute_result",
          "data": {
            "text/plain": [
              "0"
            ]
          },
          "metadata": {
            "tags": []
          },
          "execution_count": 20
        }
      ]
    },
    {
      "cell_type": "code",
      "metadata": {
        "id": "dNRO_6CuTp7S",
        "outputId": "168ccbb5-4a82-497a-8e18-fc9eca969101"
      },
      "source": [
        "ab = (a_ndarray[0][1]*b_ndarray[1][0])\n",
        "ab"
      ],
      "execution_count": null,
      "outputs": [
        {
          "output_type": "execute_result",
          "data": {
            "text/plain": [
              "0"
            ]
          },
          "metadata": {
            "tags": []
          },
          "execution_count": 21
        }
      ]
    },
    {
      "cell_type": "code",
      "metadata": {
        "id": "_YtXRmo4Tp7V",
        "outputId": "7174bc3a-703a-4377-9c00-4187ed133604"
      },
      "source": [
        "ab = (a_ndarray[0][2]*b_ndarray[2][0])\n",
        "ab"
      ],
      "execution_count": null,
      "outputs": [
        {
          "output_type": "execute_result",
          "data": {
            "text/plain": [
              "6"
            ]
          },
          "metadata": {
            "tags": []
          },
          "execution_count": 22
        }
      ]
    },
    {
      "cell_type": "code",
      "metadata": {
        "id": "9BshJCevTp7X",
        "outputId": "d3bf7ab6-a3cb-4840-cf7c-d667b3cf9f13"
      },
      "source": [
        "sum_ab = (a_ndarray[0][0]*b_ndarray[0][0])+(a_ndarray[0][1]*b_ndarray[1][0])+(a_ndarray[0][2]*b_ndarray[2][0])\n",
        "sum_ab"
      ],
      "execution_count": null,
      "outputs": [
        {
          "output_type": "execute_result",
          "data": {
            "text/plain": [
              "6"
            ]
          },
          "metadata": {
            "tags": []
          },
          "execution_count": 23
        }
      ]
    },
    {
      "cell_type": "markdown",
      "metadata": {
        "id": "EaP0aL5_Tp7Y"
      },
      "source": [
        "#  Problem. 4 The Creating a function that performs matrix multiplication."
      ]
    },
    {
      "cell_type": "code",
      "metadata": {
        "id": "Wgox79HRTp7Z",
        "outputId": "42673fa7-0563-4cf1-fbc4-87bfbd99ab6c"
      },
      "source": [
        "def product_of_matrix(a, b):\n",
        "    matrix_ab = np.empty([3,3])\n",
        "    for row1 in range(a.shape[0]):\n",
        "        for column1 in range(b.shape[1]):\n",
        "            matrix_ab[row1][column1] = sum(a[row1, :]*b[:, column1])\n",
        "    return matrix_ab\n",
        "print(product_of_matrix(a_ndarray, b_ndarray))\n"
      ],
      "execution_count": null,
      "outputs": [
        {
          "output_type": "stream",
          "text": [
            "[[  6.  29. -20.]\n",
            " [ 12.  52.  38.]\n",
            " [-18. -51. -48.]]\n"
          ],
          "name": "stdout"
        }
      ]
    },
    {
      "cell_type": "markdown",
      "metadata": {
        "id": "Zs6YzHmnTp7b"
      },
      "source": [
        "# Problem 5. The input whose calculation is not define."
      ]
    },
    {
      "cell_type": "code",
      "metadata": {
        "id": "n7QiuHRiTp7c",
        "outputId": "d122b289-7bc3-4a88-9068-8597761515ca"
      },
      "source": [
        "d_ndarray = np.array([[-1, 2, 3],[4, -5, 6]])\n",
        "e_ndarray = np.array([[-9, 8, 7],[6, -5, 4]])\n",
        "if(d_ndarray.shape[0]==e_ndarray.shape[1]):\n",
        "    print(product_of_matrix(d_ndarray, e_ndarray))\n",
        "else:\n",
        "        print(\"This matrices are not inline\")"
      ],
      "execution_count": null,
      "outputs": [
        {
          "output_type": "stream",
          "text": [
            "This matrices are not inline\n"
          ],
          "name": "stdout"
        }
      ]
    },
    {
      "cell_type": "markdown",
      "metadata": {
        "id": "sV2usbK4Tp7d"
      },
      "source": [
        "# Problem 6.Transposition "
      ]
    },
    {
      "cell_type": "code",
      "metadata": {
        "id": "alqDbCweTp7e",
        "outputId": "3984c885-704d-4079-e2d7-c74be1ab9c01"
      },
      "source": [
        "z = d_ndarray.T\n",
        "print(product_of_matrix(z, e_ndarray))\n"
      ],
      "execution_count": null,
      "outputs": [
        {
          "output_type": "stream",
          "text": [
            "[[ 33. -28.   9.]\n",
            " [-48.  41.  -6.]\n",
            " [  9.  -6.  45.]]\n"
          ],
          "name": "stdout"
        }
      ]
    },
    {
      "cell_type": "code",
      "metadata": {
        "id": "uDW-qbwgTp7f"
      },
      "source": [
        ""
      ],
      "execution_count": null,
      "outputs": []
    },
    {
      "cell_type": "code",
      "metadata": {
        "id": "tpHPNf7OTp7g"
      },
      "source": [
        ""
      ],
      "execution_count": null,
      "outputs": []
    }
  ]
}