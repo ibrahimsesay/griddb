{
  "nbformat": 4,
  "nbformat_minor": 0,
  "metadata": {
    "kernelspec": {
      "display_name": "Python 3",
      "language": "python",
      "name": "python3"
    },
    "language_info": {
      "codemirror_mode": {
        "name": "ipython",
        "version": 3
      },
      "file_extension": ".py",
      "mimetype": "text/x-python",
      "name": "python",
      "nbconvert_exporter": "python",
      "pygments_lexer": "ipython3",
      "version": "3.8.5"
    },
    "colab": {
      "name": "Week2_Pre_Assignment 1 Matrix Scratch.ipynb",
      "provenance": [],
      "collapsed_sections": [],
      "include_colab_link": true
    }
  },
  "cells": [
    {
      "cell_type": "markdown",
      "metadata": {
        "id": "view-in-github",
        "colab_type": "text"
      },
      "source": [
        "<a href=\"https://colab.research.google.com/github/ibrahimsesay/griddb/blob/master/Week2_Pre_Assignment_1_Matrix_Scratch.ipynb\" target=\"_parent\"><img src=\"https://colab.research.google.com/assets/colab-badge.svg\" alt=\"Open In Colab\"/></a>"
      ]
    },
    {
      "cell_type": "markdown",
      "metadata": {
        "id": "5JLgXzvNKLsU"
      },
      "source": [
        "#  Problem 1. The Matrix product is calculated manually."
      ]
    },
    {
      "cell_type": "markdown",
      "metadata": {
        "id": "jV3kVDJUKLuA"
      },
      "source": [
        "**QUESTION:**\n",
        "$$\n",
        "A=\\begin{bmatrix} -1 & 2 & 3 \\\\ Four & -Five & 6 \\\\ 7 & 8 & -9 \\end{bmatrix},\n",
        "B=\\begin{bmatrix} 0 & 2 & 1 \\\\ 0 & 2 & -8 \\\\ 2 & 9 & -1 \\end{bmatrix}\n",
        "$$\n",
        "\n",
        "**SOLUTION**\n",
        "\n",
        "**STEP 1:**\n",
        "$$\n",
        "\\begin{bmatrix}\n",
        "(-1*0)+(2*0)+(3*2)&(-1*2)+(2*2)+(3*9)&(-1*1)+(2*-8)+(3*-1)\\\\\n",
        "(4*0)+(-5*0)+(6*2)&(4*2)+(-5*2)+(6*9)&(4*1)+(-5*-8)+(6*-1)\\\\\n",
        "(7*0)+(8*0)+(-9*2)&(7*2)+(8*2)+(-9*9)&(7*1)+(8*-8)+(-9*-1)\\\\\n",
        "\\end{bmatrix},\n",
        "$$\n",
        "\n",
        "\n",
        "**STEP 2:**\n",
        "$$\n",
        "\\begin{bmatrix}\n",
        "(O+0+6)&(-2+4+27)&(-1-16-3)\\\\\n",
        "(O+0+12)&(8-10+54)&(4+40-6)\\\\\n",
        "(O+0-18)&(14+16-81)&(7-64+9)\\\\\n",
        "\\end{bmatrix},\n",
        "$$\n",
        "\n",
        "**FINAL ANSWER**\n",
        "$$\n",
        "\\begin{pmatrix} \n",
        "6&29&-20\\\\\n",
        "12&52&38\\\\\n",
        "-18&-51&-46\n",
        "\\end{pmatrix}\n",
        "$$\n"
      ]
    },
    {
      "cell_type": "markdown",
      "metadata": {
        "id": "cz_Oi5vCKLuC"
      },
      "source": [
        "#  Problem.2 The Calculating by Numpy function."
      ]
    },
    {
      "cell_type": "code",
      "metadata": {
        "id": "u305q-dNKLuD",
        "outputId": "5353bdf2-13db-4d78-e138-497576b00c96"
      },
      "source": [
        "import   numpy   as  np\n",
        "a_ndarray = np.array([[-1, 2, 3], [4, -5, 6], [7, 8, -9]])\n",
        "b_ndarray = np.array([[0, 2, 1], [0, 2, -8], [2, 9, -1]])\n",
        "ab_ndarray = np.matmul(a_ndarray,b_ndarray)\n",
        "print(ab_ndarray)"
      ],
      "execution_count": null,
      "outputs": [
        {
          "output_type": "stream",
          "text": [
            "[[  6  29 -20]\n",
            " [ 12  52  38]\n",
            " [-18 -51 -48]]\n"
          ],
          "name": "stdout"
        }
      ]
    },
    {
      "cell_type": "markdown",
      "metadata": {
        "id": "WvPJKICCKLud"
      },
      "source": [
        "# Problem Im 3.The Implementation of calculation of a certain element "
      ]
    },
    {
      "cell_type": "code",
      "metadata": {
        "id": "oL1RW7Z-KLue",
        "outputId": "c0879619-76c0-4be0-cc59-f09e964d871b"
      },
      "source": [
        "ab = (a_ndarray[0][0]*b_ndarray[1][0])\n",
        "ab"
      ],
      "execution_count": null,
      "outputs": [
        {
          "output_type": "execute_result",
          "data": {
            "text/plain": [
              "0"
            ]
          },
          "metadata": {
            "tags": []
          },
          "execution_count": 20
        }
      ]
    },
    {
      "cell_type": "code",
      "metadata": {
        "id": "8bTFx3TRKLug",
        "outputId": "0e182ca5-466c-427d-e4cb-2bd0c2e7d52f"
      },
      "source": [
        "ab = (a_ndarray[0][1]*b_ndarray[1][0])\n",
        "ab"
      ],
      "execution_count": null,
      "outputs": [
        {
          "output_type": "execute_result",
          "data": {
            "text/plain": [
              "0"
            ]
          },
          "metadata": {
            "tags": []
          },
          "execution_count": 21
        }
      ]
    },
    {
      "cell_type": "code",
      "metadata": {
        "id": "v-Zx-2_tKLuh",
        "outputId": "0c7dde30-0302-42ef-ff0d-a6b31eea40ad"
      },
      "source": [
        "ab = (a_ndarray[0][2]*b_ndarray[2][0])\n",
        "ab"
      ],
      "execution_count": null,
      "outputs": [
        {
          "output_type": "execute_result",
          "data": {
            "text/plain": [
              "6"
            ]
          },
          "metadata": {
            "tags": []
          },
          "execution_count": 22
        }
      ]
    },
    {
      "cell_type": "code",
      "metadata": {
        "id": "ytfWTdeaKLui",
        "outputId": "c71ff5ae-a7f1-4ddb-e218-2d8966788ef3"
      },
      "source": [
        "sum_ab = (a_ndarray[0][0]*b_ndarray[0][0])+(a_ndarray[0][1]*b_ndarray[1][0])+(a_ndarray[0][2]*b_ndarray[2][0])\n",
        "sum_ab"
      ],
      "execution_count": null,
      "outputs": [
        {
          "output_type": "execute_result",
          "data": {
            "text/plain": [
              "6"
            ]
          },
          "metadata": {
            "tags": []
          },
          "execution_count": 23
        }
      ]
    },
    {
      "cell_type": "markdown",
      "metadata": {
        "id": "7W4ccGcEKLuj"
      },
      "source": [
        "#  Problem 4. THE function that performs matrix multiplication"
      ]
    },
    {
      "cell_type": "code",
      "metadata": {
        "id": "sMXOBEgTKLuk",
        "outputId": "eb587e16-30f2-4cee-f62f-afe6f2e7416d"
      },
      "source": [
        "def product_of_matrix(a, b):\n",
        "    matrix_ab = np.empty([3,3])\n",
        "    for row1 in range(a.shape[0]):\n",
        "        for column1 in range(b.shape[1]):\n",
        "            matrix_ab[row1][column1] = sum(a[row1, :]*b[:, column1])\n",
        "    return matrix_ab\n",
        "print(product_of_matrix(a_ndarray, b_ndarray))\n"
      ],
      "execution_count": null,
      "outputs": [
        {
          "output_type": "stream",
          "text": [
            "[[  6.  29. -20.]\n",
            " [ 12.  52.  38.]\n",
            " [-18. -51. -48.]]\n"
          ],
          "name": "stdout"
        }
      ]
    },
    {
      "cell_type": "markdown",
      "metadata": {
        "id": "EdUBrdxXKLul"
      },
      "source": [
        "#  Problem.5 Judge the input whose calculation is not define "
      ]
    },
    {
      "cell_type": "code",
      "metadata": {
        "id": "gZlaEagIKLul",
        "outputId": "e6c2958e-d143-4d2b-a476-4a0b7b7de134"
      },
      "source": [
        "d_ndarray = np.array([[-1, 2, 3],[4, -5, 6]])\n",
        "e_ndarray = np.array([[-9, 8, 7],[6, -5, 4]])\n",
        "if(d_ndarray.shape[0]==e_ndarray.shape[1]):\n",
        "    print(product_of_matrix(d_ndarray, e_ndarray))\n",
        "else:\n",
        "        print(\"This matrices are not inline\")"
      ],
      "execution_count": null,
      "outputs": [
        {
          "output_type": "stream",
          "text": [
            "This matrices are not inline\n"
          ],
          "name": "stdout"
        }
      ]
    },
    {
      "cell_type": "markdown",
      "metadata": {
        "id": "Givq_N5BKLut"
      },
      "source": [
        "# Problem 6.Transposition "
      ]
    },
    {
      "cell_type": "code",
      "metadata": {
        "id": "74irvHRMKLuu",
        "outputId": "0559939f-8012-4264-bfa6-63283d6ef661"
      },
      "source": [
        "z = d_ndarray.T\n",
        "print(product_of_matrix(z, e_ndarray))\n"
      ],
      "execution_count": null,
      "outputs": [
        {
          "output_type": "stream",
          "text": [
            "[[ 33. -28.   9.]\n",
            " [-48.  41.  -6.]\n",
            " [  9.  -6.  45.]]\n"
          ],
          "name": "stdout"
        }
      ]
    },
    {
      "cell_type": "code",
      "metadata": {
        "id": "m6sGoCZuKLuv"
      },
      "source": [
        ""
      ],
      "execution_count": null,
      "outputs": []
    },
    {
      "cell_type": "code",
      "metadata": {
        "id": "fTO2eIEIKLuv"
      },
      "source": [
        ""
      ],
      "execution_count": null,
      "outputs": []
    }
  ]
}