{
  "nbformat": 4,
  "nbformat_minor": 0,
  "metadata": {
    "colab": {
      "name": "My Week2_assignment 1 submission Wheat_and_Chessboard_Problem.ipynb",
      "provenance": [],
      "collapsed_sections": [],
      "include_colab_link": true
    },
    "kernelspec": {
      "name": "python3",
      "display_name": "Python 3"
    }
  },
  "cells": [
    {
      "cell_type": "markdown",
      "metadata": {
        "id": "view-in-github",
        "colab_type": "text"
      },
      "source": [
        "<a href=\"https://colab.research.google.com/github/ibrahimsesay/griddb/blob/master/My_Week2_assignment_1_submission_Wheat_and_Chessboard_Problem.ipynb\" target=\"_parent\"><img src=\"https://colab.research.google.com/assets/colab-badge.svg\" alt=\"Open In Colab\"/></a>"
      ]
    },
    {
      "cell_type": "code",
      "metadata": {
        "id": "QoF9rkYG1PY2",
        "colab": {
          "base_uri": "https://localhost:8080/"
        },
        "outputId": "14cd1a20-0836-4ca6-c02a-c70a1e73c7be"
      },
      "source": [
        "n_squares = 4\r\n",
        "small_board_list = [ 1 ] \r\n",
        "\r\n",
        "for _ in range (n_squares - 1 ): \r\n",
        "    small_board_list.append ( 2 * small_board_list [- 1 ]) \r\n",
        "    print ( \"Arrange wheat on a plate of 4 squares (list): {}\" .format (small_board_list))"
      ],
      "execution_count": null,
      "outputs": [
        {
          "output_type": "stream",
          "text": [
            "Arrange wheat on a plate of 4 squares (list): [1, 2]\n",
            "Arrange wheat on a plate of 4 squares (list): [1, 2, 4]\n",
            "Arrange wheat on a plate of 4 squares (list): [1, 2, 4, 8]\n"
          ],
          "name": "stdout"
        }
      ]
    },
    {
      "cell_type": "markdown",
      "metadata": {
        "id": "YJw8pIkL2Dri"
      },
      "source": [
        "Problem 1.Number of wheat on a 2 x 2 square chess board"
      ]
    },
    {
      "cell_type": "code",
      "metadata": {
        "id": "GmKFII7u2V6K",
        "colab": {
          "base_uri": "https://localhost:8080/"
        },
        "outputId": "d3b4b3ed-6222-4343-e1c7-f54e3d920182"
      },
      "source": [
        "import numpy as np\r\n",
        "small_board_ndarray = np.array (small_board_list) \r\n",
        "chess_board_ndarray = small_board_ndarray.reshape(2, 2)\r\n",
        "print(f'The shape of small_board_ndarray was {small_board_ndarray.shape} and the one of chess_board_ndarray is: {chess_board_ndarray.shape}')\r\n",
        "\r\n",
        "print ( \"The number of wheat on a 2 x 2 square board (ndarray) is: {}\" .format (chess_board_ndarray))\r\n",
        "\r\n",
        "print('The number of wheat for the upper left square is:',chess_board_ndarray[0,0])\r\n",
        "print('The number of wheat for the upper right square is:',chess_board_ndarray[0,1])\r\n",
        "print('The number of wheat for the lower left square is:',chess_board_ndarray[1,0])\r\n",
        "print('The number of wheat for the lower right square is:',chess_board_ndarray[1,1])\r\n",
        "\r\n",
        "print('The total number of wheat is:',chess_board_ndarray.sum())"
      ],
      "execution_count": null,
      "outputs": [
        {
          "output_type": "stream",
          "text": [
            "The shape of small_board_ndarray was (4,) and the one of chess_board_ndarray is: (2, 2)\n",
            "The number of wheat on a 2 x 2 square board (ndarray) is: [[1 2]\n",
            " [4 8]]\n",
            "The number of wheat for the upper left square is: 1\n",
            "The number of wheat for the upper right square is: 2\n",
            "The number of wheat for the lower left square is: 4\n",
            "The number of wheat for the lower right square is: 8\n",
            "The total number of wheat is: 15\n"
          ],
          "name": "stdout"
        }
      ]
    },
    {
      "cell_type": "markdown",
      "metadata": {
        "id": "liUJPhkP3kAH"
      },
      "source": [
        "Problem 2. The Expansion to n × m mass"
      ]
    },
    {
      "cell_type": "code",
      "metadata": {
        "id": "lQFLXllY2Z9-",
        "colab": {
          "base_uri": "https://localhost:8080/"
        },
        "outputId": "9db15410-8577-445e-e17a-93ec7600d4b2"
      },
      "source": [
        "def number_of_wheat(n,m):\r\n",
        "    n_squares = n*m\r\n",
        "    small_board_list = [ 1 ] \r\n",
        "\r\n",
        "    for _ in range (n_squares- 1 ): \r\n",
        "        small_board_list.append ( 2 * small_board_list [- 1 ]) \r\n",
        "\r\n",
        "    import numpy as np\r\n",
        "    small_board_ndarray = np.array (small_board_list)\r\n",
        "    chess_board_ndarray = small_board_ndarray.reshape(n, m)\r\n",
        "    print ( f'The number of wheat on a {n} x {m} square plate (ndarray) is: {chess_board_ndarray}')\r\n",
        "    \r\n",
        "number_of_wheat(4,4)\r\n",
        "number_of_wheat(8,8)"
      ],
      "execution_count": null,
      "outputs": [
        {
          "output_type": "stream",
          "text": [
            "The number of wheat on a 4 x 4 square plate (ndarray) is: [[    1     2     4     8]\n",
            " [   16    32    64   128]\n",
            " [  256   512  1024  2048]\n",
            " [ 4096  8192 16384 32768]]\n",
            "The number of wheat on a 8 x 8 square plate (ndarray) is: [[1.00000000e+00 2.00000000e+00 4.00000000e+00 8.00000000e+00\n",
            "  1.60000000e+01 3.20000000e+01 6.40000000e+01 1.28000000e+02]\n",
            " [2.56000000e+02 5.12000000e+02 1.02400000e+03 2.04800000e+03\n",
            "  4.09600000e+03 8.19200000e+03 1.63840000e+04 3.27680000e+04]\n",
            " [6.55360000e+04 1.31072000e+05 2.62144000e+05 5.24288000e+05\n",
            "  1.04857600e+06 2.09715200e+06 4.19430400e+06 8.38860800e+06]\n",
            " [1.67772160e+07 3.35544320e+07 6.71088640e+07 1.34217728e+08\n",
            "  2.68435456e+08 5.36870912e+08 1.07374182e+09 2.14748365e+09]\n",
            " [4.29496730e+09 8.58993459e+09 1.71798692e+10 3.43597384e+10\n",
            "  6.87194767e+10 1.37438953e+11 2.74877907e+11 5.49755814e+11]\n",
            " [1.09951163e+12 2.19902326e+12 4.39804651e+12 8.79609302e+12\n",
            "  1.75921860e+13 3.51843721e+13 7.03687442e+13 1.40737488e+14]\n",
            " [2.81474977e+14 5.62949953e+14 1.12589991e+15 2.25179981e+15\n",
            "  4.50359963e+15 9.00719925e+15 1.80143985e+16 3.60287970e+16]\n",
            " [7.20575940e+16 1.44115188e+17 2.88230376e+17 5.76460752e+17\n",
            "  1.15292150e+18 2.30584301e+18 4.61168602e+18 9.22337204e+18]]\n"
          ],
          "name": "stdout"
        }
      ]
    },
    {
      "cell_type": "markdown",
      "metadata": {
        "id": "nw71btKT5Uro"
      },
      "source": [
        "Problem 3.The Total number of wheat"
      ]
    },
    {
      "cell_type": "code",
      "metadata": {
        "id": "TXTd1Nvu5XQV",
        "colab": {
          "base_uri": "https://localhost:8080/",
          "height": 347
        },
        "outputId": "db72d123-f4a1-4d29-bc12-ec2cb397a164"
      },
      "source": [
        "def total_wheat(n,m):\r\n",
        "    n_squares = n*m\r\n",
        "    small_board_list = [ 1 ] \r\n",
        "\r\n",
        "    for _ in range (n_squares- 1 ): \r\n",
        "        small_board_list.append ( 2 * small_board_list [- 1 ]) \r\n",
        "\r\n",
        "    import numpy as np\r\n",
        "    small_board_ndarray = np.array (small_board_list)\r\n",
        "    chess_board_ndarray = small_board_ndarray.reshape(n, m)\r\n",
        "    print(f'The total number of wheat on a chess board of {n} x {m} squares is: {chess_board_ndarray.sum()}')\r\n",
        "    print('The average number of wheat for each column is:',chess_board_ndarray.mean(axis=0))\r\n",
        "\r\n",
        "    import matplotlib.pyplot as plt\r\n",
        "    %matplotlib inline\r\n",
        "    \r\n",
        "    plt.xlabel(\"column\")\r\n",
        "    plt.ylabel(\"number\")\r\n",
        "    plt.title(\"number in each column\")\r\n",
        "    plt.bar(np.arange(8), np.array(chess_board_ndarray.mean(axis=0)))\r\n",
        "    plt.show()\r\n",
        "total_wheat(8,8)"
      ],
      "execution_count": null,
      "outputs": [
        {
          "output_type": "stream",
          "text": [
            "The total number of wheat on a chess board of 8 x 8 squares is: 1.8446744073709552e+19\n",
            "The average number of wheat for each column is: [9.04252160e+15 1.80850432e+16 3.61700864e+16 7.23401728e+16\n",
            " 1.44680346e+17 2.89360691e+17 5.78721383e+17 1.15744277e+18]\n"
          ],
          "name": "stdout"
        },
        {
          "output_type": "display_data",
          "data": {
            "image/png": "[encoded data removed]",
            "text/plain": [
              "<Figure size 432x288 with 1 Axes>"
            ]
          },
          "metadata": {
            "tags": [],
            "needs_background": "light"
          }
        }
      ]
    },
    {
      "cell_type": "markdown",
      "metadata": {
        "id": "3UN3ZYjs5a6y"
      },
      "source": [
        "Problem 4.The Heat map of the number of *wheat*"
      ]
    },
    {
      "cell_type": "code",
      "metadata": {
        "colab": {
          "base_uri": "https://localhost:8080/",
          "height": 332
        },
        "id": "sYwIlapL8YU8",
        "outputId": "4af25254-fb80-4e1e-dd54-ce44504ff67b"
      },
      "source": [
        "n_squares = 64\r\n",
        "small_board_list = [1]\r\n",
        "for _ in range(n_squares - 1):\r\n",
        "    small_board_list.append(2*small_board_list[-1])\r\n",
        "print(\"The total number of wheat is {}\". format(small_board_list))\r\n",
        "\r\n",
        "import matplotlib.pyplot as plt\r\n",
        "%matplotlib inline\r\n",
        "\r\n",
        "plt.xlabel(\"column\")\r\n",
        "plt.ylabel(\"row\")\r\n",
        "plt.title(\"heatmap\")\r\n",
        "plt.pcolor(np.array([small_board_list]).reshape(8,8))\r\n",
        "plt.show()"
      ],
      "execution_count": null,
      "outputs": [
        {
          "output_type": "stream",
          "text": [
            "The total number of wheat is [1, 2, 4, 8, 16, 32, 64, 128, 256, 512, 1024, 2048, 4096, 8192, 16384, 32768, 65536, 131072, 262144, 524288, 1048576, 2097152, 4194304, 8388608, 16777216, 33554432, 67108864, 134217728, 268435456, 536870912, 1073741824, 2147483648, 4294967296, 8589934592, 17179869184, 34359738368, 68719476736, 137438953472, 274877906944, 549755813888, 1099511627776, 2199023255552, 4398046511104, 8796093022208, 17592186044416, 35184372088832, 70368744177664, 140737488355328, 281474976710656, 562949953421312, 1125899906842624, 2251799813685248, 4503599627370496, 9007199254740992, 18014398509481984, 36028797018963968, 72057594037927936, 144115188075855872, 288230376151711744, 576460752303423488, 1152921504606846976, 2305843009213693952, 4611686018427387904, 9223372036854775808]\n"
          ],
          "name": "stdout"
        },
        {
          "output_type": "display_data",
          "data": {
            "image/png": "[encoded data removed]",
            "text/plain": [
              "<Figure size 432x288 with 1 Axes>"
            ]
          },
          "metadata": {
            "tags": [],
            "needs_background": "light"
          }
        }
      ]
    },
    {
      "cell_type": "markdown",
      "metadata": {
        "id": "3lA6U13I5s93"
      },
      "source": [
        "Problem 5. How many times is the second half of the first half?"
      ]
    },
    {
      "cell_type": "code",
      "metadata": {
        "id": "itHdP04Q5tvI",
        "colab": {
          "base_uri": "https://localhost:8080/"
        },
        "outputId": "f3cc9022-22d9-4a4f-e258-d831153030f9"
      },
      "source": [
        "def multiple(n,m):\r\n",
        "    n_squares = n*m\r\n",
        "    small_board_list = [ 1 ] \r\n",
        "\r\n",
        "    for _ in range (n_squares- 1 ): \r\n",
        "        small_board_list.append ( 2 * small_board_list [- 1 ])\r\n",
        "         \r\n",
        "    import numpy as np\r\n",
        "    small_board_ndarray = np.array (small_board_list)\r\n",
        "    chess_board_ndarray = small_board_ndarray.reshape(n, m)\r\n",
        "    \r\n",
        "    row = chess_board_ndarray.sum(axis=1)\r\n",
        "    a = int(len(row)/2)\r\n",
        "    \r\n",
        "    first_half = row[0:a].sum()\r\n",
        "    second_half = row[a:].sum()\r\n",
        "    mul = second_half/first_half\r\n",
        "    \r\n",
        "    print(f'The number of times the second half of the chess board is greater than the first half for a {n} x {m} board is:',mul)\r\n",
        "\r\n",
        "multiple(4,4)\r\n",
        "multiple(8,8)"
      ],
      "execution_count": null,
      "outputs": [
        {
          "output_type": "stream",
          "text": [
            "The number of times the second half of the chess board is greater than the first half for a 4 x 4 board is: 256.0\n",
            "The number of times the second half of the chess board is greater than the first half for a 8 x 8 board is: 4294967296.0\n"
          ],
          "name": "stdout"
        }
      ]
    },
    {
      "cell_type": "markdown",
      "metadata": {
        "id": "VcuFlXRj56Dq"
      },
      "source": [
        "Problem 6.The Expansion to n × m mass by another calculation *method*"
      ]
    },
    {
      "cell_type": "code",
      "metadata": {
        "id": "GOknKCte56p2"
      },
      "source": [
        "\r\n",
        "def number_of_wheat(n,m):\r\n",
        "    n_squares = n*m\r\n",
        "\r\n",
        "    indices_of_squares = np.arange(n_squares).astype(np.uint64)\r\n",
        "    board_ndarray = 2**indices_of_squares\r\n",
        "    chess_board_ndarray = board_ndarray.reshape(n, m)\r\n",
        "    \r\n",
        "    print ( f'Number of wheat on a {n} x {m} chess board is {board_ndarray.sum()}')\r\n",
        "    print ( f\"Arrange wheat on a {n} x {m} square board (ndarray): {chess_board_ndarray}\")\r\n",
        "    \r\n",
        "number_of_wheat(8,8)"
      ],
      "execution_count": null,
      "outputs": []
    },
    {
      "cell_type": "markdown",
      "metadata": {
        "id": "f6AmF6JW6BDv"
      },
      "source": [
        "Problem 7. The Comparing calculation *times* "
      ]
    },
    {
      "cell_type": "code",
      "metadata": {
        "id": "soP-Pg-a6Bny"
      },
      "source": [
        "%%timeit -r1 -n1\r\n",
        "n_squares = 4\r\n",
        "small_board_list = [ 1 ]\r\n",
        "\r\n",
        "for _ in range (n_squares- 1 ): \r\n",
        "    small_board_list.append ( 2 * small_board_list [- 1 ]) \r\n",
        "    print ( \"Arrange wheat on a plate of 4 squares (list): {}\" .format (small_board_list))"
      ],
      "execution_count": null,
      "outputs": []
    },
    {
      "cell_type": "code",
      "metadata": {
        "id": "BSsbiH3x6Ogu"
      },
      "source": [
        "%%timeit -r1 -n1\r\n",
        "n_squares = 4\r\n",
        "small_board_ndarray = np.array([1])\r\n",
        "\r\n",
        "for _ in range(n_squares - 1):\r\n",
        "    small_board_ndarray = np.append(small_board_ndarray, 2*small_board_ndarray[-1])\r\n",
        "print ( \" Arrange wheat on a 4-square board (ndarray): {} \" .format (small_board_ndarray))"
      ],
      "execution_count": null,
      "outputs": []
    },
    {
      "cell_type": "code",
      "metadata": {
        "id": "GauhgXCg6TK_"
      },
      "source": [
        "\r\n",
        "%%timeit -r1 -n1\r\n",
        "n_squares = 4\r\n",
        "indices_of_squares = np.arange(n_squares)\r\n",
        "small_board_ndarray = 2**indices_of_squares\r\n",
        "print ( \" Arrange wheat on a 4-square board (ndarray): {} \" .format (small_board_ndarray))"
      ],
      "execution_count": null,
      "outputs": []
    },
    {
      "cell_type": "code",
      "metadata": {
        "id": "RgMmDK7fBCMT"
      },
      "source": [
        "#Comparison\r\n",
        "\r\n",
        "#The calculation speed seems to be greater using the first method when the for loop is used without np.append().\r\n",
        "\r\n",
        "#On the other hand, when I used it with np.append(), the execution takes more time and it is slower than using broadcast."
      ],
      "execution_count": null,
      "outputs": []
    }
  ]
}